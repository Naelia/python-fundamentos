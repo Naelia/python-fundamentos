{
 "cells": [
  {
   "cell_type": "markdown",
   "metadata": {},
   "source": [
    "# Machine Learning"
   ]
  },
  {
   "cell_type": "markdown",
   "metadata": {},
   "source": [
    "É um subcampo da Inteligência Artificial. É o estudo e construção de algoritmos que pode aprender a partir de dados e fazer previsões. É um método de análise de dados que automatiza o desenvolvimento de modelos analísticos. Usando Algoritmos que aprendem interativamente a partir de dados, o aprendizado de máquina permite que os computadores encontrem insights através do reconhecimento de padrões. Ciência Big Data responsavel pelas grandes mudança que estamos vivendo."
   ]
  },
  {
   "cell_type": "markdown",
   "metadata": {},
   "source": [
    "## Tipos de Aprendizagem de máquina"
   ]
  },
  {
   "cell_type": "markdown",
   "metadata": {},
   "source": [
    "- Aprendizagem supervisionada: É o termo usado sempre que o programa é \"treinado\" sobre um conjunto de dados pré-definido. Previsão de valor ou classes. Os dados de treino precisam conter os valores e saída, para que o modelo aprenda como, a partir de novos dados de entrada, gerar a saída correta. Basea-se em Classificação e Regressão.\n",
    "\n",
    "- Aprendizagem não supervisionada: Termo usado quando um programa pode automaticamente encontrar padrões e relações em um conjunto de dados, mesmo sem saber quais são as possíveis saídas. Indentificação de grupos (clusters) de dados. Os dados de treino contém apenawss os dados de entrada. É usado com dados que não possuem rótulos históricos, ou seja, nós não temos variáveis target (as variáveis de saída) para serem estimadas.\n",
    "\n",
    "- Aprendizagem por reforço"
   ]
  },
  {
   "cell_type": "markdown",
   "metadata": {},
   "source": [
    "## Treinamento, Validação e Teste"
   ]
  },
  {
   "cell_type": "markdown",
   "metadata": {},
   "source": [
    "O processo de aprendizagem dos algoritmos de ML começa com a criação de subsets dos seus dados, são os chamados dados de treino e dados de teste. A divisão comun é de 25 a 30% para teste e 75 a 70% para treino (isso durante as faces de construçao do modelo preditivo) dividido dessa maneira os dados podem não serem suficientes e pode causar um tipo de overfitting e para resolver esse problema é necessario uma terceira divisão, 75 a 70% para treino, 20% para validação e 10% para teste, essa divisão vai depender do algoritmo utilizado. A divisãp dos dados deve ser favorável."
   ]
  },
  {
   "cell_type": "markdown",
   "metadata": {},
   "source": [
    "## O que é um Modelo Preditivo?"
   ]
  },
  {
   "cell_type": "markdown",
   "metadata": {},
   "source": [
    "É uma função matematica que, aplicada a uma massa de dados, consegue indentificar padrões ocultos e prever o que poderá ocorrer. É gerada por um algoritmo de Machine Learning que a partir de um conjunto de dados constrói um estimador."
   ]
  },
  {
   "cell_type": "markdown",
   "metadata": {},
   "source": [
    "## Modelo de Aprendizagem"
   ]
  },
  {
   "cell_type": "markdown",
   "metadata": {},
   "source": [
    "Espaço de Hipóteses + Algorimo de Aprendizagem = Modelo de Aprendizagem\n",
    "###### Elementos do processo de Aprendizagem\n",
    "- Aprendizado Supervisionado\n",
    " - Input-x {Dados do cliente}\n",
    " - Output-Y {Decisão -> Crédito: Sim/Não}\n",
    " - Função Alvo-f:X->Y {Representação do relacionamento/Funçâo matemática desconhecida}\n",
    " - Dados-(x1,y1),(x2,y2)...(Xn,Yn) {Dados históricos}\n",
    " - Hipótese-g:X->Y {Função a ser descoberta pelo algoritmo}"
   ]
  },
  {
   "cell_type": "markdown",
   "metadata": {},
   "source": [
    "## Algoritmos de Machine Learning"
   ]
  },
  {
   "cell_type": "markdown",
   "metadata": {},
   "source": [
    "- Aprendizagem supervisionada:\n",
    "  - Classificação\n",
    "  - Regressão\n",
    "- Aprendizagem não supervisionada:\n",
    "  - Clustering\n",
    "  - Segmentação\n",
    "  - Redução de Dimensionalidade\n",
    "- Aprendizagem por reforço:\n",
    "  - Sistemas de Recomendação\n",
    "  - Sistemas de Recompensa\n",
    "  - Processo de Decisão"
   ]
  },
  {
   "cell_type": "markdown",
   "metadata": {},
   "source": [
    "## Machine Learning Workflow\n",
    " "
   ]
  },
  {
   "cell_type": "markdown",
   "metadata": {},
   "source": [
    "É um conjunto de etapas que sistematicamente transforma e processa dados a fim de criar soluções preditivas.\n",
    "\n",
    "- Etapas:\n",
    " - Business Problem\n",
    " - Preparação de Dados\n",
    " - Seleção do Algoritmo\n",
    " - Treinamento do Modelo\n",
    " - Teste e Avaliação do Modelo"
   ]
  },
  {
   "cell_type": "code",
   "execution_count": null,
   "metadata": {},
   "outputs": [],
   "source": []
  }
 ],
 "metadata": {
  "kernelspec": {
   "display_name": "Python 3",
   "language": "python",
   "name": "python3"
  },
  "language_info": {
   "codemirror_mode": {
    "name": "ipython",
    "version": 3
   },
   "file_extension": ".py",
   "mimetype": "text/x-python",
   "name": "python",
   "nbconvert_exporter": "python",
   "pygments_lexer": "ipython3",
   "version": "3.7.4"
  }
 },
 "nbformat": 4,
 "nbformat_minor": 2
}
