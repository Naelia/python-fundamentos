{
 "cells": [
  {
   "cell_type": "markdown",
   "metadata": {},
   "source": [
    "# Processo de Análise de Dados"
   ]
  },
  {
   "cell_type": "markdown",
   "metadata": {},
   "source": [
    "#### 1° Definir o problema a ser resolvido. \n",
    "O processo de análise começa com as perguntas  de negócio que precisam serem respondidas."
   ]
  },
  {
   "cell_type": "markdown",
   "metadata": {},
   "source": [
    "#### 2° Preparação e Exploração de Dados\n",
    "<font color='grey'>Subdividida em 5 etapas menores:</font>\n",
    "\n",
    "     -Indentificação das Variáveis;\n",
    "     -Tratamento de Valores Missing;\n",
    "     -Tratamento de Outliers;\n",
    "     -Transformação de Variáveis;\n",
    "     -Criação de Variáveis.\n",
    "\n",
    "     "
   ]
  },
  {
   "cell_type": "markdown",
   "metadata": {},
   "source": [
    "#### 3° Criação do Modelo\n",
    "Definir um modelo de machine learning que ajude a explicar o relacinamento entre as variáveis e fazer as previsões.\n",
    "Definir qual algoritmo utilizar de acordo com a necesidade, em sequencia os dados devem serem sub dividido em dados de treino e dados de teste e realizar um trabalho interativo.\n",
    "Criar as previsões."
   ]
  },
  {
   "cell_type": "markdown",
   "metadata": {},
   "source": [
    "#### 4° Automatização do Processo\n",
    "Tornar seu modelo automo de modo que ao receber novos conjuntos de dados, seu processo possa ser executado de uma unica vez, sem interferencia do Cientista de Dados.\n",
    "pensar como Transformar o processo de análise em um produto ou serviço."
   ]
  },
  {
   "cell_type": "markdown",
   "metadata": {},
   "source": [
    "#### 5º Apresentação do Resultado\n",
    "Pode ser feito de varias formas, storing telling pode ser aplicado."
   ]
  },
  {
   "cell_type": "markdown",
   "metadata": {},
   "source": [
    "## Fim"
   ]
  }
 ],
 "metadata": {
  "kernelspec": {
   "display_name": "Python 3",
   "language": "python",
   "name": "python3"
  },
  "language_info": {
   "codemirror_mode": {
    "name": "ipython",
    "version": 3
   },
   "file_extension": ".py",
   "mimetype": "text/x-python",
   "name": "python",
   "nbconvert_exporter": "python",
   "pygments_lexer": "ipython3",
   "version": "3.7.4"
  }
 },
 "nbformat": 4,
 "nbformat_minor": 2
}
